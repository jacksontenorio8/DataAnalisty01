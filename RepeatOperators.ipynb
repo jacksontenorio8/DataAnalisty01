{
  "cells": [
    {
      "cell_type": "markdown",
      "metadata": {
        "id": "view-in-github",
        "colab_type": "text"
      },
      "source": [
        "<a href=\"https://colab.research.google.com/github/jacksontenorio8/DataAnalisty01/blob/main/RepeatOperators.ipynb\" target=\"_parent\"><img src=\"https://colab.research.google.com/assets/colab-badge.svg\" alt=\"Open In Colab\"/></a>"
      ]
    },
    {
      "cell_type": "code",
      "execution_count": 14,
      "metadata": {
        "id": "FJRAhiuej-6W"
      },
      "outputs": [],
      "source": [
        "lista_notas = [8, 7, 5, 4, 2, 10, 9, 6, 8, 7, 10, 5, 4, 10]"
      ]
    },
    {
      "cell_type": "code",
      "source": [
        "len(lista_notas)"
      ],
      "metadata": {
        "colab": {
          "base_uri": "https://localhost:8080/"
        },
        "id": "-wvIuArSqcvs",
        "outputId": "7dde224e-6c82-4ba6-bdf9-d4dd5d141a4a"
      },
      "execution_count": 15,
      "outputs": [
        {
          "output_type": "execute_result",
          "data": {
            "text/plain": [
              "14"
            ]
          },
          "metadata": {},
          "execution_count": 15
        }
      ]
    },
    {
      "cell_type": "code",
      "source": [
        "for i in lista_notas:\n",
        "  print(i)"
      ],
      "metadata": {
        "colab": {
          "base_uri": "https://localhost:8080/"
        },
        "id": "T6qmgCERrKot",
        "outputId": "6a920917-686e-4f7a-8993-341c9b87debb"
      },
      "execution_count": 16,
      "outputs": [
        {
          "output_type": "stream",
          "name": "stdout",
          "text": [
            "8\n",
            "7\n",
            "5\n",
            "4\n",
            "2\n",
            "10\n",
            "9\n",
            "6\n",
            "8\n",
            "7\n",
            "10\n",
            "5\n",
            "4\n",
            "10\n"
          ]
        }
      ]
    },
    {
      "cell_type": "code",
      "source": [
        "for nota in lista_notas:\n",
        "    media = (nota + 7) / 2\n",
        "    if media >= 7:\n",
        "        print(f'Nota: {media} --- Situação: Aprovado')\n",
        "    else: \n",
        "        print(f'Nota: {media} --- Situação: Reprovado')"
      ],
      "metadata": {
        "colab": {
          "base_uri": "https://localhost:8080/"
        },
        "id": "zaG76QcnnQQl",
        "outputId": "e789fe60-66c3-4ab8-e017-24e044e609f1"
      },
      "execution_count": 17,
      "outputs": [
        {
          "output_type": "stream",
          "name": "stdout",
          "text": [
            "Nota: 7.5 --- Situação: Aprovado\n",
            "Nota: 7.0 --- Situação: Aprovado\n",
            "Nota: 6.0 --- Situação: Reprovado\n",
            "Nota: 5.5 --- Situação: Reprovado\n",
            "Nota: 4.5 --- Situação: Reprovado\n",
            "Nota: 8.5 --- Situação: Aprovado\n",
            "Nota: 8.0 --- Situação: Aprovado\n",
            "Nota: 6.5 --- Situação: Reprovado\n",
            "Nota: 7.5 --- Situação: Aprovado\n",
            "Nota: 7.0 --- Situação: Aprovado\n",
            "Nota: 8.5 --- Situação: Aprovado\n",
            "Nota: 6.0 --- Situação: Reprovado\n",
            "Nota: 5.5 --- Situação: Reprovado\n",
            "Nota: 8.5 --- Situação: Aprovado\n"
          ]
        }
      ]
    },
    {
      "cell_type": "markdown",
      "source": [
        "ENUMERATE\n"
      ],
      "metadata": {
        "id": "qQDTrqDyptMg"
      }
    },
    {
      "cell_type": "code",
      "source": [
        "for nota in enumerate(lista_notas):\n",
        "    print(nota)"
      ],
      "metadata": {
        "colab": {
          "base_uri": "https://localhost:8080/"
        },
        "id": "WKgMSS3qpsSp",
        "outputId": "0f1409ab-ce53-40e5-e160-e8360ec5cc37"
      },
      "execution_count": 18,
      "outputs": [
        {
          "output_type": "stream",
          "name": "stdout",
          "text": [
            "(0, 8)\n",
            "(1, 7)\n",
            "(2, 5)\n",
            "(3, 4)\n",
            "(4, 2)\n",
            "(5, 10)\n",
            "(6, 9)\n",
            "(7, 6)\n",
            "(8, 8)\n",
            "(9, 7)\n",
            "(10, 10)\n",
            "(11, 5)\n",
            "(12, 4)\n",
            "(13, 10)\n"
          ]
        }
      ]
    },
    {
      "cell_type": "code",
      "source": [
        "for nota in enumerate(lista_notas, start=1):\n",
        "    print(nota)"
      ],
      "metadata": {
        "colab": {
          "base_uri": "https://localhost:8080/"
        },
        "id": "zdZkkDXvsVXr",
        "outputId": "ce6f6765-64c9-4b03-fbbf-ab00379bfccb"
      },
      "execution_count": 19,
      "outputs": [
        {
          "output_type": "stream",
          "name": "stdout",
          "text": [
            "(1, 8)\n",
            "(2, 7)\n",
            "(3, 5)\n",
            "(4, 4)\n",
            "(5, 2)\n",
            "(6, 10)\n",
            "(7, 9)\n",
            "(8, 6)\n",
            "(9, 8)\n",
            "(10, 7)\n",
            "(11, 10)\n",
            "(12, 5)\n",
            "(13, 4)\n",
            "(14, 10)\n"
          ]
        }
      ]
    },
    {
      "cell_type": "code",
      "source": [
        "for enu, nota in enumerate(lista_notas):\n",
        "    print(enu, nota)"
      ],
      "metadata": {
        "colab": {
          "base_uri": "https://localhost:8080/"
        },
        "id": "5OyLQI5Ps407",
        "outputId": "1f75890d-448b-424c-f916-7b165cced290"
      },
      "execution_count": 20,
      "outputs": [
        {
          "output_type": "stream",
          "name": "stdout",
          "text": [
            "0 8\n",
            "1 7\n",
            "2 5\n",
            "3 4\n",
            "4 2\n",
            "5 10\n",
            "6 9\n",
            "7 6\n",
            "8 8\n",
            "9 7\n",
            "10 10\n",
            "11 5\n",
            "12 4\n",
            "13 10\n"
          ]
        }
      ]
    },
    {
      "cell_type": "code",
      "source": [
        "for enu, nota in enumerate(lista_notas):\n",
        "    print(lista_notas[enu])"
      ],
      "metadata": {
        "colab": {
          "base_uri": "https://localhost:8080/"
        },
        "id": "oYQcWjIfvmlB",
        "outputId": "1e8c7ecd-7124-4a91-b1f4-6f1a94803d60"
      },
      "execution_count": 21,
      "outputs": [
        {
          "output_type": "stream",
          "name": "stdout",
          "text": [
            "8\n",
            "7\n",
            "5\n",
            "4\n",
            "2\n",
            "10\n",
            "9\n",
            "6\n",
            "8\n",
            "7\n",
            "10\n",
            "5\n",
            "4\n",
            "10\n"
          ]
        }
      ]
    },
    {
      "cell_type": "markdown",
      "source": [
        "###RANGE\n",
        "* start --> Valor que deseja iniciar a geração do range.\n",
        "* stop --> Valor de parada do range. Esse valor indica a parada (não chega nesse valor)\n",
        "* step --> Valor de pulos, gerar de x em x\n"
      ],
      "metadata": {
        "id": "2Iesm39ZwH74"
      }
    },
    {
      "cell_type": "code",
      "source": [
        "#Fornecendo apenas um parâmetro, neste caso entendido com o stop.\n",
        "range(3)\n"
      ],
      "metadata": {
        "colab": {
          "base_uri": "https://localhost:8080/"
        },
        "id": "eWUPjqYawFq5",
        "outputId": "bda192ae-0299-4634-9633-7b69f1efa344"
      },
      "execution_count": 22,
      "outputs": [
        {
          "output_type": "execute_result",
          "data": {
            "text/plain": [
              "range(0, 3)"
            ]
          },
          "metadata": {},
          "execution_count": 22
        }
      ]
    },
    {
      "cell_type": "code",
      "source": [
        "for n in range(3):\n",
        "    print(n)"
      ],
      "metadata": {
        "colab": {
          "base_uri": "https://localhost:8080/"
        },
        "id": "s0uyklX1zxrr",
        "outputId": "27cd6d21-64c5-4e00-86da-7f8fa819625e"
      },
      "execution_count": 23,
      "outputs": [
        {
          "output_type": "stream",
          "name": "stdout",
          "text": [
            "0\n",
            "1\n",
            "2\n"
          ]
        }
      ]
    },
    {
      "cell_type": "code",
      "source": [
        "#Fornecendo dois parâmetros, neste caso o primeiro é o start e o segundo é o stop.\n",
        "for n in range(1, 3):\n",
        "    print(n)\n",
        "\n",
        "# A contagem começa no 1 e para no 3. 1, 2, 3(break)"
      ],
      "metadata": {
        "colab": {
          "base_uri": "https://localhost:8080/"
        },
        "id": "Zgb27oVr0RZl",
        "outputId": "e66dac8f-c39f-4042-f8b0-1693b9910d88"
      },
      "execution_count": 24,
      "outputs": [
        {
          "output_type": "stream",
          "name": "stdout",
          "text": [
            "1\n",
            "2\n"
          ]
        }
      ]
    },
    {
      "cell_type": "code",
      "source": [
        "#Fornecendo três valores, neste casos o primeiro é o start, o segundo é o stop e o terceiro é o step\n",
        "for n in range(1, 11, 2):\n",
        "    print(n)"
      ],
      "metadata": {
        "colab": {
          "base_uri": "https://localhost:8080/"
        },
        "id": "o4MRi8NdwkY1",
        "outputId": "0d6d14e7-8755-4392-9018-30ee417c2058"
      },
      "execution_count": 25,
      "outputs": [
        {
          "output_type": "stream",
          "name": "stdout",
          "text": [
            "1\n",
            "3\n",
            "5\n",
            "7\n",
            "9\n"
          ]
        }
      ]
    },
    {
      "cell_type": "code",
      "source": [
        "for n in range(5, 51, 5):\n",
        "    print(n)"
      ],
      "metadata": {
        "colab": {
          "base_uri": "https://localhost:8080/"
        },
        "id": "vy5iB8wFybiT",
        "outputId": "546cd348-587f-4b9b-e4a2-c6991a86837a"
      },
      "execution_count": 27,
      "outputs": [
        {
          "output_type": "stream",
          "name": "stdout",
          "text": [
            "5\n",
            "10\n",
            "15\n",
            "20\n",
            "25\n",
            "30\n",
            "35\n",
            "40\n",
            "45\n",
            "50\n"
          ]
        }
      ]
    },
    {
      "cell_type": "code",
      "source": [
        "for i, n in enumerate(range(5, 51, 5), start= 1):\n",
        "    print(f'5 X {i} = {n}')\n"
      ],
      "metadata": {
        "colab": {
          "base_uri": "https://localhost:8080/"
        },
        "id": "H8vYQ9YMy-k1",
        "outputId": "773b0afd-4bd4-4768-9e1d-f95178b050f1"
      },
      "execution_count": 29,
      "outputs": [
        {
          "output_type": "stream",
          "name": "stdout",
          "text": [
            "5 X 1 = 5\n",
            "5 X 2 = 10\n",
            "5 X 3 = 15\n",
            "5 X 4 = 20\n",
            "5 X 5 = 25\n",
            "5 X 6 = 30\n",
            "5 X 7 = 35\n",
            "5 X 8 = 40\n",
            "5 X 9 = 45\n",
            "5 X 10 = 50\n"
          ]
        }
      ]
    }
  ],
  "metadata": {
    "colab": {
      "name": "RepeatOperators.ipynb",
      "provenance": [],
      "authorship_tag": "ABX9TyMab0HhC4gukYoi45ZazcLR",
      "include_colab_link": true
    },
    "kernelspec": {
      "display_name": "Python 3",
      "name": "python3"
    },
    "language_info": {
      "name": "python"
    }
  },
  "nbformat": 4,
  "nbformat_minor": 0
}