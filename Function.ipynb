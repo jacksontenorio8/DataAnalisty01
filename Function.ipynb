{
  "nbformat": 4,
  "nbformat_minor": 0,
  "metadata": {
    "colab": {
      "name": "Function.ipynb",
      "provenance": [],
      "collapsed_sections": [],
      "authorship_tag": "ABX9TyO9X/NX5tzXD0N7GrmLq6d5",
      "include_colab_link": true
    },
    "kernelspec": {
      "name": "python3",
      "display_name": "Python 3"
    },
    "language_info": {
      "name": "python"
    }
  },
  "cells": [
    {
      "cell_type": "markdown",
      "metadata": {
        "id": "view-in-github",
        "colab_type": "text"
      },
      "source": [
        "<a href=\"https://colab.research.google.com/github/jacksontenorio8/DataAnalisty01/blob/main/Function.ipynb\" target=\"_parent\"><img src=\"https://colab.research.google.com/assets/colab-badge.svg\" alt=\"Open In Colab\"/></a>"
      ]
    },
    {
      "cell_type": "code",
      "execution_count": null,
      "metadata": {
        "id": "i-6DSh0SA9Mh"
      },
      "outputs": [],
      "source": [
        "def exibe_nome_curso():\n",
        "    print(\"Seja um analista de Dados\")"
      ]
    },
    {
      "cell_type": "code",
      "source": [
        "exibe_nome_curso()"
      ],
      "metadata": {
        "colab": {
          "base_uri": "https://localhost:8080/"
        },
        "id": "3pWJmTkkCbC_",
        "outputId": "86a492cc-6f86-45a7-92f9-997b82ee20c4"
      },
      "execution_count": null,
      "outputs": [
        {
          "output_type": "stream",
          "name": "stdout",
          "text": [
            "Seja um analista de Dados\n"
          ]
        }
      ]
    },
    {
      "cell_type": "code",
      "source": [
        "x = exibe_nome_curso()\n",
        "print(x)"
      ],
      "metadata": {
        "colab": {
          "base_uri": "https://localhost:8080/"
        },
        "id": "E0M3VZwiFxJL",
        "outputId": "5fabf381-dfe8-4bcc-a377-36190e98c9af"
      },
      "execution_count": null,
      "outputs": [
        {
          "output_type": "stream",
          "name": "stdout",
          "text": [
            "Seja um analista de Dados\n",
            "None\n"
          ]
        }
      ]
    },
    {
      "cell_type": "code",
      "source": [
        "def exibe_nome(a):\n",
        "    print(a)"
      ],
      "metadata": {
        "id": "WGIZZqQHGb6B"
      },
      "execution_count": null,
      "outputs": []
    },
    {
      "cell_type": "code",
      "source": [
        "exibe_nome(\"Jackson\")"
      ],
      "metadata": {
        "colab": {
          "base_uri": "https://localhost:8080/"
        },
        "id": "jeKRkK79HLgw",
        "outputId": "d9c610c7-e3fe-4f82-828f-4d30f3db6c21"
      },
      "execution_count": null,
      "outputs": [
        {
          "output_type": "stream",
          "name": "stdout",
          "text": [
            "Jackson\n"
          ]
        }
      ]
    },
    {
      "cell_type": "code",
      "source": [
        "def soma(a, b):\n",
        "    calc = a + b\n",
        "    return calc"
      ],
      "metadata": {
        "id": "szGUDWuzH0HW"
      },
      "execution_count": 7,
      "outputs": []
    },
    {
      "cell_type": "code",
      "source": [
        "soma(16, 9)"
      ],
      "metadata": {
        "colab": {
          "base_uri": "https://localhost:8080/"
        },
        "id": "J15kYxf3ISl2",
        "outputId": "251e0378-e8f2-48b5-b5f3-da41519315e5"
      },
      "execution_count": 8,
      "outputs": [
        {
          "output_type": "execute_result",
          "data": {
            "text/plain": [
              "25"
            ]
          },
          "metadata": {},
          "execution_count": 8
        }
      ]
    },
    {
      "cell_type": "code",
      "source": [
        "def calc_salario_liquido(vl_salario):\n",
        "    desc_ir = vl_salario * 0.07\n",
        "    desc_inss = vl_salario * 0.11\n",
        "    desc_outros = vl_salario * 0.02\n",
        "    tot_descontos = desc_ir + desc_inss + desc_outros\n",
        "    sal_liquido = vl_salario - tot_descontos\n",
        "\n",
        "    print(\"CÁLCULO DO SALÁRIO LÍQUIDO!!!\")\n",
        "    print(f\"Seu salário é R$ {vl_salario}\")\n",
        "    print(f\"O IR descontará R${desc_ir:.2f}\")\n",
        "    print(f\"O INSS descontará R$ {desc_inss:.2f}\")\n",
        "    print(f\"O total de descontos será R$ {tot_descontos:.2f}\")\n",
        "    print(f\"O seu salário líquido será R$ {sal_liquido:.2f}\")"
      ],
      "metadata": {
        "id": "_BA3STHaKGxS"
      },
      "execution_count": 13,
      "outputs": []
    },
    {
      "cell_type": "code",
      "source": [
        "calc_salario_liquido(1800)"
      ],
      "metadata": {
        "colab": {
          "base_uri": "https://localhost:8080/"
        },
        "id": "VvT2b8E4NsvM",
        "outputId": "592af7fc-56ca-41dd-dac3-2910bc26d389"
      },
      "execution_count": 14,
      "outputs": [
        {
          "output_type": "stream",
          "name": "stdout",
          "text": [
            "CÁLCULO DO SALÁRIO LÍQUIDO!!!\n",
            "Seu salário é R$ 1800\n",
            "O IR descontará R$126.00\n",
            "O INSS descontará R$ 198.00\n",
            "O total de descontos será R$ 360.00\n",
            "O seu salário líquido será R$ 1440.00\n"
          ]
        }
      ]
    },
    {
      "cell_type": "code",
      "source": [
        "def exibe_nome2(nome=\"CÁLCULO DO SALÁRIO LÍQUIDO!!!\"):\n",
        "    print(nome)"
      ],
      "metadata": {
        "id": "ASP4LNRNO3QH"
      },
      "execution_count": 15,
      "outputs": []
    },
    {
      "cell_type": "code",
      "source": [
        "exibe_nome2()"
      ],
      "metadata": {
        "colab": {
          "base_uri": "https://localhost:8080/"
        },
        "id": "AHVFwJ-pPW7r",
        "outputId": "5b31865c-cdc5-4661-f76c-319499b2c2c0"
      },
      "execution_count": 17,
      "outputs": [
        {
          "output_type": "stream",
          "name": "stdout",
          "text": [
            "Nenhum valor foi informado!\n"
          ]
        }
      ]
    },
    {
      "cell_type": "code",
      "source": [
        "def exibe_nome2(vl1 = 20, vl2 = 30):\n",
        "    print(vl1 + vl2)"
      ],
      "metadata": {
        "id": "vjBMOcUXQKRO"
      },
      "execution_count": null,
      "outputs": []
    },
    {
      "cell_type": "code",
      "source": [
        "def calc_tabuada(valor_calc):\n",
        "    for x, y in enumerate(range(valor_calc, (valor_calc*10)+1, valor_calc), start=1):\n",
        "        print(\"{0} X {1} = {2}\".format(valor_calc, x, y))"
      ],
      "metadata": {
        "id": "7Yv8OJLgRLmQ"
      },
      "execution_count": 23,
      "outputs": []
    },
    {
      "cell_type": "code",
      "source": [
        "calc_tabuada(2)"
      ],
      "metadata": {
        "colab": {
          "base_uri": "https://localhost:8080/"
        },
        "id": "hOQf689qVnBv",
        "outputId": "e4f7ab2a-ae7c-498e-89a8-518fbb8e5095"
      },
      "execution_count": 24,
      "outputs": [
        {
          "output_type": "stream",
          "name": "stdout",
          "text": [
            "2 X 1 = 2\n",
            "2 X 2 = 4\n",
            "2 X 3 = 6\n",
            "2 X 4 = 8\n",
            "2 X 5 = 10\n",
            "2 X 6 = 12\n",
            "2 X 7 = 14\n",
            "2 X 8 = 16\n",
            "2 X 9 = 18\n",
            "2 X 10 = 20\n"
          ]
        }
      ]
    },
    {
      "cell_type": "code",
      "source": [
        "for x in range(2, 11):\n",
        "    print(f\"Cálculo da tabuada {x}\")\n",
        "    calc_tabuada(x)\n",
        "    print(\"\\n\")"
      ],
      "metadata": {
        "colab": {
          "base_uri": "https://localhost:8080/"
        },
        "id": "vFIGGdw2XOG_",
        "outputId": "464ae767-b46c-45ee-cf56-da528d714581"
      },
      "execution_count": 25,
      "outputs": [
        {
          "output_type": "stream",
          "name": "stdout",
          "text": [
            "Cálculo da tabuada 2\n",
            "2 X 1 = 2\n",
            "2 X 2 = 4\n",
            "2 X 3 = 6\n",
            "2 X 4 = 8\n",
            "2 X 5 = 10\n",
            "2 X 6 = 12\n",
            "2 X 7 = 14\n",
            "2 X 8 = 16\n",
            "2 X 9 = 18\n",
            "2 X 10 = 20\n",
            "\n",
            "\n",
            "Cálculo da tabuada 3\n",
            "2 X 1 = 2\n",
            "2 X 2 = 4\n",
            "2 X 3 = 6\n",
            "2 X 4 = 8\n",
            "2 X 5 = 10\n",
            "2 X 6 = 12\n",
            "2 X 7 = 14\n",
            "2 X 8 = 16\n",
            "2 X 9 = 18\n",
            "2 X 10 = 20\n",
            "\n",
            "\n",
            "Cálculo da tabuada 4\n",
            "2 X 1 = 2\n",
            "2 X 2 = 4\n",
            "2 X 3 = 6\n",
            "2 X 4 = 8\n",
            "2 X 5 = 10\n",
            "2 X 6 = 12\n",
            "2 X 7 = 14\n",
            "2 X 8 = 16\n",
            "2 X 9 = 18\n",
            "2 X 10 = 20\n",
            "\n",
            "\n",
            "Cálculo da tabuada 5\n",
            "2 X 1 = 2\n",
            "2 X 2 = 4\n",
            "2 X 3 = 6\n",
            "2 X 4 = 8\n",
            "2 X 5 = 10\n",
            "2 X 6 = 12\n",
            "2 X 7 = 14\n",
            "2 X 8 = 16\n",
            "2 X 9 = 18\n",
            "2 X 10 = 20\n",
            "\n",
            "\n",
            "Cálculo da tabuada 6\n",
            "2 X 1 = 2\n",
            "2 X 2 = 4\n",
            "2 X 3 = 6\n",
            "2 X 4 = 8\n",
            "2 X 5 = 10\n",
            "2 X 6 = 12\n",
            "2 X 7 = 14\n",
            "2 X 8 = 16\n",
            "2 X 9 = 18\n",
            "2 X 10 = 20\n",
            "\n",
            "\n",
            "Cálculo da tabuada 7\n",
            "2 X 1 = 2\n",
            "2 X 2 = 4\n",
            "2 X 3 = 6\n",
            "2 X 4 = 8\n",
            "2 X 5 = 10\n",
            "2 X 6 = 12\n",
            "2 X 7 = 14\n",
            "2 X 8 = 16\n",
            "2 X 9 = 18\n",
            "2 X 10 = 20\n",
            "\n",
            "\n",
            "Cálculo da tabuada 8\n",
            "2 X 1 = 2\n",
            "2 X 2 = 4\n",
            "2 X 3 = 6\n",
            "2 X 4 = 8\n",
            "2 X 5 = 10\n",
            "2 X 6 = 12\n",
            "2 X 7 = 14\n",
            "2 X 8 = 16\n",
            "2 X 9 = 18\n",
            "2 X 10 = 20\n",
            "\n",
            "\n",
            "Cálculo da tabuada 9\n",
            "2 X 1 = 2\n",
            "2 X 2 = 4\n",
            "2 X 3 = 6\n",
            "2 X 4 = 8\n",
            "2 X 5 = 10\n",
            "2 X 6 = 12\n",
            "2 X 7 = 14\n",
            "2 X 8 = 16\n",
            "2 X 9 = 18\n",
            "2 X 10 = 20\n",
            "\n",
            "\n",
            "Cálculo da tabuada 10\n",
            "2 X 1 = 2\n",
            "2 X 2 = 4\n",
            "2 X 3 = 6\n",
            "2 X 4 = 8\n",
            "2 X 5 = 10\n",
            "2 X 6 = 12\n",
            "2 X 7 = 14\n",
            "2 X 8 = 16\n",
            "2 X 9 = 18\n",
            "2 X 10 = 20\n",
            "\n",
            "\n"
          ]
        }
      ]
    }
  ]
}