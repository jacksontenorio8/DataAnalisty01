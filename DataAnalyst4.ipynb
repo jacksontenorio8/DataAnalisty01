{
  "cells": [
    {
      "cell_type": "markdown",
      "metadata": {
        "id": "view-in-github",
        "colab_type": "text"
      },
      "source": [
        "<a href=\"https://colab.research.google.com/github/jacksontenorio8/DataAnalisty01/blob/main/DataAnalyst4.ipynb\" target=\"_parent\"><img src=\"https://colab.research.google.com/assets/colab-badge.svg\" alt=\"Open In Colab\"/></a>"
      ]
    },
    {
      "cell_type": "markdown",
      "metadata": {
        "id": "ScGbokDNc80_"
      },
      "source": [
        "#Operadores\n",
        "___"
      ]
    },
    {
      "cell_type": "markdown",
      "metadata": {
        "id": "ul8W5NMUhbgz"
      },
      "source": [
        "Comparação"
      ]
    },
    {
      "cell_type": "code",
      "execution_count": 1,
      "metadata": {
        "colab": {
          "base_uri": "https://localhost:8080/"
        },
        "id": "vjdHi4t9cuC2",
        "outputId": "ffbbc2af-3503-4af2-c6e6-0b781f1d6896"
      },
      "outputs": [
        {
          "output_type": "execute_result",
          "data": {
            "text/plain": [
              "False"
            ]
          },
          "metadata": {},
          "execution_count": 1
        }
      ],
      "source": [
        "10 > 50\n"
      ]
    },
    {
      "cell_type": "code",
      "execution_count": 2,
      "metadata": {
        "colab": {
          "base_uri": "https://localhost:8080/"
        },
        "id": "APRd9SXMdGt2",
        "outputId": "12a84440-0d71-4688-e8a1-530f9b27884e"
      },
      "outputs": [
        {
          "output_type": "execute_result",
          "data": {
            "text/plain": [
              "True"
            ]
          },
          "metadata": {},
          "execution_count": 2
        }
      ],
      "source": [
        "'aa' > 'a'"
      ]
    },
    {
      "cell_type": "code",
      "execution_count": 3,
      "metadata": {
        "colab": {
          "base_uri": "https://localhost:8080/"
        },
        "id": "Y8e6fs0NjwCG",
        "outputId": "e6440db5-72bc-4df8-b7b4-365887c39110"
      },
      "outputs": [
        {
          "output_type": "execute_result",
          "data": {
            "text/plain": [
              "False"
            ]
          },
          "metadata": {},
          "execution_count": 3
        }
      ],
      "source": [
        "10 >= 60"
      ]
    },
    {
      "cell_type": "code",
      "execution_count": 4,
      "metadata": {
        "colab": {
          "base_uri": "https://localhost:8080/"
        },
        "id": "Nf1Uv99Pj0lU",
        "outputId": "d6ed45a9-bb2f-4665-f41c-186232d79542"
      },
      "outputs": [
        {
          "output_type": "execute_result",
          "data": {
            "text/plain": [
              "True"
            ]
          },
          "metadata": {},
          "execution_count": 4
        }
      ],
      "source": [
        "50 >= 50"
      ]
    },
    {
      "cell_type": "code",
      "execution_count": 5,
      "metadata": {
        "colab": {
          "base_uri": "https://localhost:8080/"
        },
        "id": "xUNZV06nkC7c",
        "outputId": "ae888a19-f3f1-4f82-afbd-650f163bf2e3"
      },
      "outputs": [
        {
          "output_type": "execute_result",
          "data": {
            "text/plain": [
              "True"
            ]
          },
          "metadata": {},
          "execution_count": 5
        }
      ],
      "source": [
        "10 < 60"
      ]
    },
    {
      "cell_type": "code",
      "execution_count": 6,
      "metadata": {
        "colab": {
          "base_uri": "https://localhost:8080/"
        },
        "id": "C5jb8L_MkZfh",
        "outputId": "a01dcab1-e54f-4274-8306-5ff0a3bdb852"
      },
      "outputs": [
        {
          "output_type": "execute_result",
          "data": {
            "text/plain": [
              "True"
            ]
          },
          "metadata": {},
          "execution_count": 6
        }
      ],
      "source": [
        "vl1 = 10\n",
        "vl2 = 50\n",
        "vl1 < vl2"
      ]
    },
    {
      "cell_type": "code",
      "execution_count": 7,
      "metadata": {
        "colab": {
          "base_uri": "https://localhost:8080/"
        },
        "id": "0H2oGWubk2fc",
        "outputId": "05914bfc-58a6-4525-b3dd-30ba0d4811e6"
      },
      "outputs": [
        {
          "output_type": "execute_result",
          "data": {
            "text/plain": [
              "False"
            ]
          },
          "metadata": {},
          "execution_count": 7
        }
      ],
      "source": [
        "10 == 50"
      ]
    },
    {
      "cell_type": "code",
      "execution_count": 8,
      "metadata": {
        "colab": {
          "base_uri": "https://localhost:8080/"
        },
        "id": "4iMFpefHlCtb",
        "outputId": "79c83474-bedc-4403-dfa3-3cf9336befae"
      },
      "outputs": [
        {
          "output_type": "execute_result",
          "data": {
            "text/plain": [
              "True"
            ]
          },
          "metadata": {},
          "execution_count": 8
        }
      ],
      "source": [
        "'1' == '1'"
      ]
    },
    {
      "cell_type": "code",
      "execution_count": 9,
      "metadata": {
        "colab": {
          "base_uri": "https://localhost:8080/"
        },
        "id": "47kBGFEqlcEn",
        "outputId": "265c8e7a-200f-49bc-f963-e9d32f3c3d38"
      },
      "outputs": [
        {
          "output_type": "execute_result",
          "data": {
            "text/plain": [
              "True"
            ]
          },
          "metadata": {},
          "execution_count": 9
        }
      ],
      "source": [
        "10 != 50"
      ]
    },
    {
      "cell_type": "code",
      "execution_count": 10,
      "metadata": {
        "colab": {
          "base_uri": "https://localhost:8080/"
        },
        "id": "TdXyb-sqmBAv",
        "outputId": "a0d9fd02-45b5-4589-aafb-6af240b6dc42"
      },
      "outputs": [
        {
          "output_type": "execute_result",
          "data": {
            "text/plain": [
              "False"
            ]
          },
          "metadata": {},
          "execution_count": 10
        }
      ],
      "source": [
        "(10 > 50) and (30 > 20)"
      ]
    },
    {
      "cell_type": "code",
      "execution_count": 11,
      "metadata": {
        "colab": {
          "base_uri": "https://localhost:8080/"
        },
        "id": "N9Op898RmehN",
        "outputId": "1f96394f-86b6-41f5-9f2f-4e0cb973d106"
      },
      "outputs": [
        {
          "output_type": "execute_result",
          "data": {
            "text/plain": [
              "False"
            ]
          },
          "metadata": {},
          "execution_count": 11
        }
      ],
      "source": [
        "10 > 50 and 30 > 20"
      ]
    },
    {
      "cell_type": "code",
      "execution_count": 12,
      "metadata": {
        "colab": {
          "base_uri": "https://localhost:8080/"
        },
        "id": "KIoFSh38mqyO",
        "outputId": "610641e4-b9f8-479e-8505-4c0172a3d457"
      },
      "outputs": [
        {
          "output_type": "execute_result",
          "data": {
            "text/plain": [
              "True"
            ]
          },
          "metadata": {},
          "execution_count": 12
        }
      ],
      "source": [
        "20 > 5 and 50 > 10"
      ]
    },
    {
      "cell_type": "code",
      "execution_count": 13,
      "metadata": {
        "colab": {
          "base_uri": "https://localhost:8080/"
        },
        "id": "MCeAbkzmm6FV",
        "outputId": "773ddeed-a0f6-4663-9ca3-ddc9c3d6081e"
      },
      "outputs": [
        {
          "output_type": "execute_result",
          "data": {
            "text/plain": [
              "True"
            ]
          },
          "metadata": {},
          "execution_count": 13
        }
      ],
      "source": [
        "(10 > 50) or (30 > 20)"
      ]
    },
    {
      "cell_type": "code",
      "source": [
        "10 > 50 or 30 > 10"
      ],
      "metadata": {
        "colab": {
          "base_uri": "https://localhost:8080/"
        },
        "id": "3KpR0DRmyvzE",
        "outputId": "feab8670-6dc7-4123-942e-3798ed19c0fa"
      },
      "execution_count": 14,
      "outputs": [
        {
          "output_type": "execute_result",
          "data": {
            "text/plain": [
              "True"
            ]
          },
          "metadata": {},
          "execution_count": 14
        }
      ]
    },
    {
      "cell_type": "code",
      "source": [
        "#População em milhões\n",
        "pop_eua = 328.2\n",
        "pop_mex = 127.6\n",
        "pop_bra = 211\n",
        "pop_arg = 44.94"
      ],
      "metadata": {
        "id": "hr7slaL_zD8x"
      },
      "execution_count": 15,
      "outputs": []
    },
    {
      "cell_type": "code",
      "source": [
        "((pop_bra > pop_arg) and (pop_bra > pop_mex)) or pop_bra > pop_eua"
      ],
      "metadata": {
        "colab": {
          "base_uri": "https://localhost:8080/"
        },
        "id": "BqVwSQJfzjnh",
        "outputId": "11b8903b-3aff-4fd5-c6e8-5e9d03779c78"
      },
      "execution_count": 18,
      "outputs": [
        {
          "output_type": "execute_result",
          "data": {
            "text/plain": [
              "True"
            ]
          },
          "metadata": {},
          "execution_count": 18
        }
      ]
    },
    {
      "cell_type": "markdown",
      "source": [
        "Condição"
      ],
      "metadata": {
        "id": "MSu4SbPT0zW-"
      }
    },
    {
      "cell_type": "code",
      "source": [
        "if (10 > 50):\n",
        "  print('Maior')\n",
        "else:\n",
        "  print('Menor')\n",
        "print('Fora do IF')"
      ],
      "metadata": {
        "colab": {
          "base_uri": "https://localhost:8080/"
        },
        "id": "UxW7Lszv1CDo",
        "outputId": "22365c9e-bbce-4943-c536-2b45070101f3"
      },
      "execution_count": 20,
      "outputs": [
        {
          "output_type": "stream",
          "name": "stdout",
          "text": [
            "Menor\n",
            "Fora do IF\n"
          ]
        }
      ]
    },
    {
      "cell_type": "code",
      "source": [
        "idade = 22\n",
        "if (idade <= 12):\n",
        "  print('Criança')\n",
        "elif (idade >= 13 and idade <= 19):\n",
        "  print('Adolescente')\n",
        "elif (idade >= 20 and idade <= 59):\n",
        "  print('Adulto')\n",
        "else:\n",
        "  print('Idoso')"
      ],
      "metadata": {
        "colab": {
          "base_uri": "https://localhost:8080/"
        },
        "id": "p3h6vW8d2apW",
        "outputId": "b1912553-fe2f-4c5a-d764-c2a1dfdd29e9"
      },
      "execution_count": 22,
      "outputs": [
        {
          "output_type": "stream",
          "name": "stdout",
          "text": [
            "Adulto\n"
          ]
        }
      ]
    }
  ],
  "metadata": {
    "colab": {
      "name": "DataAnalyst4.ipynb",
      "provenance": [],
      "authorship_tag": "ABX9TyOlgNeq0qBp48SianIT0f3s",
      "include_colab_link": true
    },
    "kernelspec": {
      "display_name": "Python 3",
      "name": "python3"
    },
    "language_info": {
      "name": "python"
    }
  },
  "nbformat": 4,
  "nbformat_minor": 0
}